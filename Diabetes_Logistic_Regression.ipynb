{
  "nbformat": 4,
  "nbformat_minor": 0,
  "metadata": {
    "colab": {
      "provenance": []
    },
    "kernelspec": {
      "name": "python3",
      "display_name": "Python 3"
    },
    "language_info": {
      "name": "python"
    }
  },
  "cells": [
    {
      "cell_type": "markdown",
      "source": [
        "#Step 1: Data Collection\n",
        "\n"
      ],
      "metadata": {
        "id": "ezwVXVVm7FEn"
      }
    },
    {
      "cell_type": "code",
      "source": [
        "from google.colab import drive\n",
        "drive.mount('/content/drive')"
      ],
      "metadata": {
        "colab": {
          "base_uri": "https://localhost:8080/"
        },
        "id": "aZ2TiwBoWZ2L",
        "outputId": "0399ca03-17cf-4428-e774-9904747a7268"
      },
      "execution_count": null,
      "outputs": [
        {
          "output_type": "stream",
          "name": "stdout",
          "text": [
            "Mounted at /content/drive\n"
          ]
        }
      ]
    },
    {
      "cell_type": "markdown",
      "source": [
        "i. Import necessary modules"
      ],
      "metadata": {
        "id": "j8LLUmwF8xHe"
      }
    },
    {
      "cell_type": "code",
      "execution_count": null,
      "metadata": {
        "id": "aorzncJz67zq"
      },
      "outputs": [],
      "source": [
        "import pandas as pd\n",
        "import matplotlib.pyplot as plt\n",
        "import numpy as np\n",
        "\n",
        "from sklearn.model_selection import train_test_split\n",
        "from sklearn.tree import DecisionTreeClassifier\n",
        "from sklearn.metrics import accuracy_score\n",
        "from sklearn.preprocessing import StandardScaler\n",
        "from sklearn.linear_model import LogisticRegression\n",
        "from sklearn.metrics import classification_report\n",
        "from sklearn.linear_model import LinearRegression"
      ]
    },
    {
      "cell_type": "markdown",
      "source": [
        "ii. Import datasets"
      ],
      "metadata": {
        "id": "BmA0DeEI84IB"
      }
    },
    {
      "cell_type": "code",
      "source": [
        "df = pd.read_csv(\"Dataset of Diabetes .csv\")\n",
        "print(df.head())"
      ],
      "metadata": {
        "colab": {
          "base_uri": "https://localhost:8080/"
        },
        "id": "0-z6lkEvL_J8",
        "outputId": "65f1e610-48b3-4053-f255-13b447d5b6b5"
      },
      "execution_count": null,
      "outputs": [
        {
          "output_type": "stream",
          "name": "stdout",
          "text": [
            "    ID  No_Pation Gender  AGE  Urea  Cr  HbA1c  Chol   TG  HDL  LDL  VLDL  \\\n",
            "0  502      17975      F   50   4.7  46    4.9   4.2  0.9  2.4  1.4   0.5   \n",
            "1  735      34221      M   26   4.5  62    4.9   3.7  1.4  1.1  2.1   0.6   \n",
            "2  420      47975      F   50   4.7  46    4.9   4.2  0.9  2.4  1.4   0.5   \n",
            "3  680      87656      F   50   4.7  46    4.9   4.2  0.9  2.4  1.4   0.5   \n",
            "4  504      34223      M   33   7.1  46    4.9   4.9  1.0  0.8  2.0   0.4   \n",
            "\n",
            "    BMI CLASS  \n",
            "0  24.0     N  \n",
            "1  23.0     N  \n",
            "2  24.0     N  \n",
            "3  24.0     N  \n",
            "4  21.0     N  \n"
          ]
        }
      ]
    },
    {
      "cell_type": "markdown",
      "source": [
        "#Step 2: Data preprocessing"
      ],
      "metadata": {
        "id": "b9qxOgZpNuOK"
      }
    },
    {
      "cell_type": "markdown",
      "source": [
        "Exploratory Data Analysis(EDA)"
      ],
      "metadata": {
        "id": "WQllMsgbN39a"
      }
    },
    {
      "cell_type": "markdown",
      "source": [
        "**Check data types for each column:**"
      ],
      "metadata": {
        "id": "whMFub10RAOB"
      }
    },
    {
      "cell_type": "code",
      "source": [
        "print(df.dtypes)"
      ],
      "metadata": {
        "colab": {
          "base_uri": "https://localhost:8080/"
        },
        "id": "7r7XyZPwPLSk",
        "outputId": "23cf38e6-5d4f-4ab7-b94d-c222f09305e9"
      },
      "execution_count": null,
      "outputs": [
        {
          "output_type": "stream",
          "name": "stdout",
          "text": [
            "ID             int64\n",
            "No_Pation      int64\n",
            "Gender        object\n",
            "AGE            int64\n",
            "Urea         float64\n",
            "Cr             int64\n",
            "HbA1c        float64\n",
            "Chol         float64\n",
            "TG           float64\n",
            "HDL          float64\n",
            "LDL          float64\n",
            "VLDL         float64\n",
            "BMI          float64\n",
            "CLASS         object\n",
            "dtype: object\n"
          ]
        }
      ]
    },
    {
      "cell_type": "markdown",
      "source": [
        " **Check null values:**"
      ],
      "metadata": {
        "id": "5I7ZnKmEQZbW"
      }
    },
    {
      "cell_type": "code",
      "source": [
        "print(df.isnull().any())"
      ],
      "metadata": {
        "colab": {
          "base_uri": "https://localhost:8080/"
        },
        "id": "yjhD7n0-PYh7",
        "outputId": "7e758354-c88e-4c49-9a4a-90276e068d23"
      },
      "execution_count": null,
      "outputs": [
        {
          "output_type": "stream",
          "name": "stdout",
          "text": [
            "ID           False\n",
            "No_Pation    False\n",
            "Gender       False\n",
            "AGE          False\n",
            "Urea         False\n",
            "Cr           False\n",
            "HbA1c        False\n",
            "Chol         False\n",
            "TG           False\n",
            "HDL          False\n",
            "LDL          False\n",
            "VLDL         False\n",
            "BMI          False\n",
            "CLASS        False\n",
            "dtype: bool\n"
          ]
        }
      ]
    },
    {
      "cell_type": "markdown",
      "source": [
        "As we can see here, there is no null values in all the columns"
      ],
      "metadata": {
        "id": "Qf77n6-YQQcL"
      }
    },
    {
      "cell_type": "code",
      "source": [
        "print(df.describe())"
      ],
      "metadata": {
        "colab": {
          "base_uri": "https://localhost:8080/"
        },
        "id": "6uvljp4VO7Kn",
        "outputId": "ea51f312-3d75-4b28-bc74-b933eef42ff5"
      },
      "execution_count": null,
      "outputs": [
        {
          "output_type": "stream",
          "name": "stdout",
          "text": [
            "                ID     No_Pation          AGE         Urea           Cr  \\\n",
            "count  1000.000000  1.000000e+03  1000.000000  1000.000000  1000.000000   \n",
            "mean    340.500000  2.705514e+05    53.528000     5.124743    68.943000   \n",
            "std     240.397673  3.380758e+06     8.799241     2.935165    59.984747   \n",
            "min       1.000000  1.230000e+02    20.000000     0.500000     6.000000   \n",
            "25%     125.750000  2.406375e+04    51.000000     3.700000    48.000000   \n",
            "50%     300.500000  3.439550e+04    55.000000     4.600000    60.000000   \n",
            "75%     550.250000  4.538425e+04    59.000000     5.700000    73.000000   \n",
            "max     800.000000  7.543566e+07    79.000000    38.900000   800.000000   \n",
            "\n",
            "             HbA1c         Chol           TG          HDL          LDL  \\\n",
            "count  1000.000000  1000.000000  1000.000000  1000.000000  1000.000000   \n",
            "mean      8.281160     4.862820     2.349610     1.204750     2.609790   \n",
            "std       2.534003     1.301738     1.401176     0.660414     1.115102   \n",
            "min       0.900000     0.000000     0.300000     0.200000     0.300000   \n",
            "25%       6.500000     4.000000     1.500000     0.900000     1.800000   \n",
            "50%       8.000000     4.800000     2.000000     1.100000     2.500000   \n",
            "75%      10.200000     5.600000     2.900000     1.300000     3.300000   \n",
            "max      16.000000    10.300000    13.800000     9.900000     9.900000   \n",
            "\n",
            "              VLDL          BMI  \n",
            "count  1000.000000  1000.000000  \n",
            "mean      1.854700    29.578020  \n",
            "std       3.663599     4.962388  \n",
            "min       0.100000    19.000000  \n",
            "25%       0.700000    26.000000  \n",
            "50%       0.900000    30.000000  \n",
            "75%       1.500000    33.000000  \n",
            "max      35.000000    47.750000  \n"
          ]
        }
      ]
    },
    {
      "cell_type": "markdown",
      "source": [
        "we can see there are multiple columns have outliers based on the mean and 3rd quartile:\n",
        "i. Urea\n",
        "ii. Cr\n",
        "iii. Chol\n",
        "iv. TG"
      ],
      "metadata": {
        "id": "IEVclbYGaMVE"
      }
    },
    {
      "cell_type": "code",
      "source": [
        "plt.boxplot(df[\"Urea\"])\n",
        "plt.title(\"Box Plot of Urea\")\n",
        "plt.show()"
      ],
      "metadata": {
        "colab": {
          "base_uri": "https://localhost:8080/",
          "height": 452
        },
        "id": "hFVtP3pPb-8o",
        "outputId": "5c9d7e82-ecf2-4d43-dd6b-ecef06c4a1a1"
      },
      "execution_count": null,
      "outputs": [
        {
          "output_type": "display_data",
          "data": {
            "text/plain": [
              "<Figure size 640x480 with 1 Axes>"
            ],
            "image/png": "[encoded data removed]"
          },
          "metadata": {}
        }
      ]
    },
    {
      "cell_type": "code",
      "source": [
        "plt.hist(df[\"Urea\"],[0,1,2,3,4,5,6,7,8,9,10,11,12,13,14,15,16,17,18,19,20,21,22,23,24,25,26,27,28,29,30,31,32,33,34,35,36,37,38,39,40])\n",
        "plt.title(\"Histogram of Urea\")\n",
        "plt.show()"
      ],
      "metadata": {
        "colab": {
          "base_uri": "https://localhost:8080/",
          "height": 452
        },
        "id": "2WCLZzkjcexP",
        "outputId": "1f4b0e1a-b1dc-4e92-9cb7-e07d7f57aaec"
      },
      "execution_count": null,
      "outputs": [
        {
          "output_type": "display_data",
          "data": {
            "text/plain": [
              "<Figure size 640x480 with 1 Axes>"
            ],
            "image/png": "[encoded data removed]"
          },
          "metadata": {}
        }
      ]
    },
    {
      "cell_type": "markdown",
      "source": [
        "As we can see from the histogram almost 950 persons hava urea mostly under 15. but first lets check how many are the outlier first."
      ],
      "metadata": {
        "id": "zPQz2GjfdCvk"
      }
    },
    {
      "cell_type": "code",
      "source": [
        "num = (df[\"Urea\"]>10).sum()\n",
        "print(\"number of outliers: {}\".format(num))"
      ],
      "metadata": {
        "colab": {
          "base_uri": "https://localhost:8080/"
        },
        "id": "ODLAdudmc8T9",
        "outputId": "f7f69bf4-eb37-4d4f-f18d-075e78895456"
      },
      "execution_count": null,
      "outputs": [
        {
          "output_type": "stream",
          "name": "stdout",
          "text": [
            "number of outliers: 45\n"
          ]
        }
      ]
    },
    {
      "cell_type": "markdown",
      "source": [
        "after checking, Urea>11 is the outlier so let's check by dropping those values"
      ],
      "metadata": {
        "id": "emiW5u0Qgm8d"
      }
    },
    {
      "cell_type": "code",
      "source": [
        "df = df.drop(df[df[\"Urea\"] > 11].index)\n",
        "print(df.describe())"
      ],
      "metadata": {
        "colab": {
          "base_uri": "https://localhost:8080/"
        },
        "id": "GxgO-Xc3hE8m",
        "outputId": "87596958-86d6-4159-e7af-8cbfe4ae3da1"
      },
      "execution_count": null,
      "outputs": [
        {
          "output_type": "stream",
          "name": "stdout",
          "text": [
            "               ID     No_Pation         AGE        Urea          Cr  \\\n",
            "count  971.000000  9.710000e+02  971.000000  971.000000  971.000000   \n",
            "mean   343.876416  2.772453e+05   53.466529    4.753597   62.915551   \n",
            "std    240.681685  3.430670e+06    8.786920    1.723688   28.797248   \n",
            "min      2.000000  1.230000e+02   20.000000    0.500000    6.000000   \n",
            "25%    127.000000  2.406350e+04   51.000000    3.600000   48.000000   \n",
            "50%    306.000000  3.439500e+04   55.000000    4.500000   59.000000   \n",
            "75%    556.500000  4.538350e+04   59.000000    5.600000   72.000000   \n",
            "max    800.000000  7.543566e+07   79.000000   11.000000  370.000000   \n",
            "\n",
            "            HbA1c        Chol          TG         HDL         LDL        VLDL  \\\n",
            "count  971.000000  971.000000  971.000000  971.000000  971.000000  971.000000   \n",
            "mean     8.287497    4.863769    2.339763    1.208805    2.607096    1.874253   \n",
            "std      2.556081    1.299998    1.396150    0.666903    1.119879    3.714749   \n",
            "min      0.900000    0.000000    0.300000    0.200000    0.300000    0.100000   \n",
            "25%      6.500000    4.000000    1.500000    0.900000    1.800000    0.700000   \n",
            "50%      8.000000    4.800000    2.000000    1.100000    2.500000    0.900000   \n",
            "75%     10.200000    5.600000    2.900000    1.300000    3.300000    1.500000   \n",
            "max     16.000000   10.300000   13.800000    9.900000    9.900000   35.000000   \n",
            "\n",
            "              BMI  \n",
            "count  971.000000  \n",
            "mean    29.567889  \n",
            "std      4.988944  \n",
            "min     19.000000  \n",
            "25%     26.000000  \n",
            "50%     30.000000  \n",
            "75%     33.000000  \n",
            "max     47.750000  \n"
          ]
        }
      ]
    },
    {
      "cell_type": "markdown",
      "source": [
        "So we can see, Urea has become normal. So let's fix Cr."
      ],
      "metadata": {
        "id": "1BIYlDtbm5qB"
      }
    },
    {
      "cell_type": "code",
      "source": [
        "plt.boxplot(df[\"Cr\"])\n",
        "plt.title(\"Box Plot of Cr\")\n",
        "plt.show()"
      ],
      "metadata": {
        "colab": {
          "base_uri": "https://localhost:8080/",
          "height": 452
        },
        "id": "AouEFdXAnAWM",
        "outputId": "f91530b9-6945-4ddc-d2aa-77c5de7985db"
      },
      "execution_count": null,
      "outputs": [
        {
          "output_type": "display_data",
          "data": {
            "text/plain": [
              "<Figure size 640x480 with 1 Axes>"
            ],
            "image/png": "[encoded data removed]"
          },
          "metadata": {}
        }
      ]
    },
    {
      "cell_type": "code",
      "source": [
        "plt.hist(df[\"Cr\"],[10,20,30,40,50,60,70,80,90,100,110,120,130,140,150,160,170,180,190,200,210,220,230,240,250,260,270,280,290,300,310,320,330,340,350,360,370,380,390,400])\n",
        "plt.title(\"Histogram of Cr\")\n",
        "plt.show()"
      ],
      "metadata": {
        "colab": {
          "base_uri": "https://localhost:8080/",
          "height": 452
        },
        "id": "JQpGXl3vnK0M",
        "outputId": "aa9bb6e7-92f3-4080-902a-6a067d3973b3"
      },
      "execution_count": null,
      "outputs": [
        {
          "output_type": "display_data",
          "data": {
            "text/plain": [
              "<Figure size 640x480 with 1 Axes>"
            ],
            "image/png": "[encoded data removed]"
          },
          "metadata": {}
        }
      ]
    },
    {
      "cell_type": "markdown",
      "source": [
        "As we can see here, value >110 are the outliers. so first lets check the number of the outliers."
      ],
      "metadata": {
        "id": "_q-H9zipn6UL"
      }
    },
    {
      "cell_type": "code",
      "source": [
        "num = (df[\"Cr\"]>110).sum()\n",
        "print(\"number of outliers: {}\".format(num))"
      ],
      "metadata": {
        "colab": {
          "base_uri": "https://localhost:8080/"
        },
        "id": "M7zFyHTTotv0",
        "outputId": "b789f36f-fa99-4c6b-a2ba-129e746fdfbc"
      },
      "execution_count": null,
      "outputs": [
        {
          "output_type": "stream",
          "name": "stdout",
          "text": [
            "number of outliers: 28\n"
          ]
        }
      ]
    },
    {
      "cell_type": "code",
      "source": [
        "df = df.drop(df[df[\"Cr\"] > 110].index)\n",
        "print(df.describe())"
      ],
      "metadata": {
        "colab": {
          "base_uri": "https://localhost:8080/"
        },
        "id": "QCrLRt9_o38_",
        "outputId": "58980271-2a72-4213-c68e-de9a66a3607f"
      },
      "execution_count": null,
      "outputs": [
        {
          "output_type": "stream",
          "name": "stdout",
          "text": [
            "               ID     No_Pation         AGE       Urea          Cr  \\\n",
            "count  943.000000  9.430000e+02  943.000000  943.00000  943.000000   \n",
            "mean   345.024390  2.834226e+05   53.402969    4.63504   59.610817   \n",
            "std    241.202218  3.481044e+06    8.779613    1.56746   17.305920   \n",
            "min      2.000000  1.230000e+02   20.000000    0.50000    6.000000   \n",
            "25%    125.000000  2.405650e+04   51.000000    3.60000   47.000000   \n",
            "50%    309.000000  3.438900e+04   55.000000    4.50000   59.000000   \n",
            "75%    559.500000  4.537650e+04   59.000000    5.50000   72.000000   \n",
            "max    800.000000  7.543566e+07   79.000000   11.00000  106.000000   \n",
            "\n",
            "            HbA1c        Chol          TG         HDL         LDL        VLDL  \\\n",
            "count  943.000000  943.000000  943.000000  943.000000  943.000000  943.000000   \n",
            "mean     8.296458    4.867572    2.328643    1.208006    2.612291    1.889396   \n",
            "std      2.574133    1.303733    1.392533    0.670149    1.125737    3.763273   \n",
            "min      0.900000    0.000000    0.300000    0.200000    0.300000    0.100000   \n",
            "25%      6.500000    4.000000    1.400000    0.900000    1.800000    0.700000   \n",
            "50%      8.000000    4.800000    2.000000    1.100000    2.500000    0.900000   \n",
            "75%     10.200000    5.600000    2.900000    1.300000    3.300000    1.500000   \n",
            "max     16.000000   10.300000   13.800000    9.900000    9.900000   35.000000   \n",
            "\n",
            "              BMI  \n",
            "count  943.000000  \n",
            "mean    29.537031  \n",
            "std      4.971581  \n",
            "min     19.000000  \n",
            "25%     26.000000  \n",
            "50%     30.000000  \n",
            "75%     33.000000  \n",
            "max     47.750000  \n"
          ]
        }
      ]
    },
    {
      "cell_type": "code",
      "source": [
        "plt.boxplot(df[\"TG\"])\n",
        "plt.title(\"Box Plot of TG\")\n",
        "plt.show"
      ],
      "metadata": {
        "colab": {
          "base_uri": "https://localhost:8080/",
          "height": 469
        },
        "id": "wQRDwHeoqlY4",
        "outputId": "0c3a08ba-5b79-4cb1-e845-9653307e2024"
      },
      "execution_count": null,
      "outputs": [
        {
          "output_type": "execute_result",
          "data": {
            "text/plain": [
              "<function matplotlib.pyplot.show(close=None, block=None)>"
            ]
          },
          "metadata": {},
          "execution_count": 23
        },
        {
          "output_type": "display_data",
          "data": {
            "text/plain": [
              "<Figure size 640x480 with 1 Axes>"
            ],
            "image/png": "[encoded data removed]"
          },
          "metadata": {}
        }
      ]
    },
    {
      "cell_type": "code",
      "source": [
        "plt.hist(df[\"TG\"],[0,1,2,3,4,5,6,7,8,9,10,11,12,13,14])\n",
        "plt.title(\"Histogram of TG\")\n",
        "plt.show"
      ],
      "metadata": {
        "colab": {
          "base_uri": "https://localhost:8080/",
          "height": 469
        },
        "id": "yjl2Z0Izq2_G",
        "outputId": "96549fca-c824-48d6-901c-ad02b5f3e73c"
      },
      "execution_count": null,
      "outputs": [
        {
          "output_type": "execute_result",
          "data": {
            "text/plain": [
              "<function matplotlib.pyplot.show(close=None, block=None)>"
            ]
          },
          "metadata": {},
          "execution_count": 24
        },
        {
          "output_type": "display_data",
          "data": {
            "text/plain": [
              "<Figure size 640x480 with 1 Axes>"
            ],
            "image/png": "[encoded data removed]"
          },
          "metadata": {}
        }
      ]
    },
    {
      "cell_type": "markdown",
      "source": [
        "We can tg>6 are the outliers"
      ],
      "metadata": {
        "id": "-9MMZ913rl07"
      }
    },
    {
      "cell_type": "code",
      "source": [
        "num = (df[\"TG\"]>6).sum()\n",
        "print(\"number of outliers: {}\".format(num))"
      ],
      "metadata": {
        "colab": {
          "base_uri": "https://localhost:8080/"
        },
        "id": "qzLIsLNHrpie",
        "outputId": "d94e041e-3d57-4bda-ef6b-f3461b15f120"
      },
      "execution_count": null,
      "outputs": [
        {
          "output_type": "stream",
          "name": "stdout",
          "text": [
            "number of outliers: 17\n"
          ]
        }
      ]
    },
    {
      "cell_type": "code",
      "source": [
        "df = df.drop(df[df[\"TG\"] > 6].index)\n",
        "print(df.describe())"
      ],
      "metadata": {
        "colab": {
          "base_uri": "https://localhost:8080/"
        },
        "id": "ZlR5RgSvrzpf",
        "outputId": "eccfbb0c-69a3-4fb1-b7d8-83725a5ba5de"
      },
      "execution_count": null,
      "outputs": [
        {
          "output_type": "stream",
          "name": "stdout",
          "text": [
            "               ID     No_Pation         AGE        Urea          Cr  \\\n",
            "count  926.000000  9.260000e+02  926.000000  926.000000  926.000000   \n",
            "mean   345.279698  2.872809e+05   53.313175    4.636548   59.531317   \n",
            "std    240.754419  3.512694e+06    8.779410    1.571644   17.380778   \n",
            "min      2.000000  1.230000e+02   20.000000    0.500000    6.000000   \n",
            "25%    126.250000  2.405425e+04   51.000000    3.600000   47.000000   \n",
            "50%    309.500000  3.438550e+04   55.000000    4.500000   59.000000   \n",
            "75%    559.750000  4.537950e+04   59.000000    5.500000   71.750000   \n",
            "max    800.000000  7.543566e+07   79.000000   11.000000  106.000000   \n",
            "\n",
            "            HbA1c        Chol          TG         HDL         LDL        VLDL  \\\n",
            "count  926.000000  926.000000  926.000000  926.000000  926.000000  926.000000   \n",
            "mean     8.250281    4.841058    2.222905    1.211933    2.623531    1.862419   \n",
            "std      2.569988    1.283320    1.123955    0.673828    1.125734    3.788725   \n",
            "min      0.900000    0.000000    0.300000    0.200000    0.300000    0.100000   \n",
            "25%      6.500000    4.000000    1.400000    0.900000    1.800000    0.700000   \n",
            "50%      8.000000    4.800000    2.000000    1.100000    2.500000    0.900000   \n",
            "75%     10.175000    5.575000    2.700000    1.300000    3.300000    1.400000   \n",
            "max     16.000000   10.300000    5.900000    9.900000    9.900000   35.000000   \n",
            "\n",
            "              BMI  \n",
            "count  926.000000  \n",
            "mean    29.489114  \n",
            "std      4.984759  \n",
            "min     19.000000  \n",
            "25%     26.000000  \n",
            "50%     30.000000  \n",
            "75%     33.000000  \n",
            "max     47.750000  \n"
          ]
        }
      ]
    },
    {
      "cell_type": "code",
      "source": [
        "plt.boxplot(df[\"HDL\"])\n",
        "plt.title(\"Box Plot of HDL\")\n",
        "plt.show"
      ],
      "metadata": {
        "colab": {
          "base_uri": "https://localhost:8080/",
          "height": 469
        },
        "id": "1txcXpgss-Dt",
        "outputId": "46b89880-471d-4c45-a0f6-945c5247f104"
      },
      "execution_count": null,
      "outputs": [
        {
          "output_type": "execute_result",
          "data": {
            "text/plain": [
              "<function matplotlib.pyplot.show(close=None, block=None)>"
            ]
          },
          "metadata": {},
          "execution_count": 27
        },
        {
          "output_type": "display_data",
          "data": {
            "text/plain": [
              "<Figure size 640x480 with 1 Axes>"
            ],
            "image/png": "[encoded data removed]"
          },
          "metadata": {}
        }
      ]
    },
    {
      "cell_type": "code",
      "source": [
        "plt.hist(df[\"TG\"],[0.5,1.0,1.5,2.0,2.5,3.0,3.5,4.0,4.5,5.0,5.5,6.0])\n",
        "plt.title(\"Histogram of TG\")\n",
        "plt.show"
      ],
      "metadata": {
        "colab": {
          "base_uri": "https://localhost:8080/",
          "height": 469
        },
        "id": "xAxdi8RItMUn",
        "outputId": "fc39b2b4-088a-4932-d8ec-f7b4895e5ce4"
      },
      "execution_count": null,
      "outputs": [
        {
          "output_type": "execute_result",
          "data": {
            "text/plain": [
              "<function matplotlib.pyplot.show(close=None, block=None)>"
            ]
          },
          "metadata": {},
          "execution_count": 28
        },
        {
          "output_type": "display_data",
          "data": {
            "text/plain": [
              "<Figure size 640x480 with 1 Axes>"
            ],
            "image/png": "[encoded data removed]"
          },
          "metadata": {}
        }
      ]
    },
    {
      "cell_type": "code",
      "source": [
        "num = (df[\"HDL\"]>5.5).sum()\n",
        "print(\"number of outliers: {}\".format(num))"
      ],
      "metadata": {
        "colab": {
          "base_uri": "https://localhost:8080/"
        },
        "id": "RfMWffRWtlCr",
        "outputId": "d182e3bd-8ada-4a4a-ea32-06faa13c9ce6"
      },
      "execution_count": null,
      "outputs": [
        {
          "output_type": "stream",
          "name": "stdout",
          "text": [
            "number of outliers: 5\n"
          ]
        }
      ]
    },
    {
      "cell_type": "code",
      "source": [
        "df = df.drop(df[df[\"HDL\"] > 5.5].index)\n",
        "print(df.describe())"
      ],
      "metadata": {
        "colab": {
          "base_uri": "https://localhost:8080/"
        },
        "id": "FF2aoh3ctzr-",
        "outputId": "a52e163e-cc2c-4a9d-a169-3f8da85e6be4"
      },
      "execution_count": null,
      "outputs": [
        {
          "output_type": "stream",
          "name": "stdout",
          "text": [
            "               ID     No_Pation         AGE        Urea          Cr  \\\n",
            "count  921.000000  9.210000e+02  921.000000  921.000000  921.000000   \n",
            "mean   345.216069  2.886528e+05   53.304017    4.631426   59.483170   \n",
            "std    240.767676  3.522177e+06    8.799634    1.573416   17.374206   \n",
            "min      2.000000  1.230000e+02   20.000000    0.500000    6.000000   \n",
            "25%    126.000000  2.405300e+04   51.000000    3.600000   47.000000   \n",
            "50%    310.000000  3.438600e+04   55.000000    4.500000   59.000000   \n",
            "75%    560.000000  4.538000e+04   59.000000    5.500000   71.000000   \n",
            "max    800.000000  7.543566e+07   79.000000   11.000000  106.000000   \n",
            "\n",
            "            HbA1c        Chol          TG         HDL         LDL        VLDL  \\\n",
            "count  921.000000  921.000000  921.000000  921.000000  921.000000  921.000000   \n",
            "mean     8.240782    4.832921    2.225635    1.176819    2.626048    1.866015   \n",
            "std      2.570845    1.274083    1.124485    0.464814    1.125060    3.798671   \n",
            "min      0.900000    0.000000    0.300000    0.200000    0.300000    0.100000   \n",
            "25%      6.500000    4.000000    1.400000    0.900000    1.800000    0.700000   \n",
            "50%      8.000000    4.800000    2.000000    1.100000    2.500000    0.900000   \n",
            "75%     10.100000    5.500000    2.700000    1.300000    3.300000    1.400000   \n",
            "max     16.000000   10.300000    5.900000    5.000000    9.900000   35.000000   \n",
            "\n",
            "              BMI  \n",
            "count  921.000000  \n",
            "mean    29.467883  \n",
            "std      4.987827  \n",
            "min     19.000000  \n",
            "25%     26.000000  \n",
            "50%     30.000000  \n",
            "75%     33.000000  \n",
            "max     47.750000  \n"
          ]
        }
      ]
    },
    {
      "cell_type": "markdown",
      "source": [],
      "metadata": {
        "id": "b4_ExqvTtkNr"
      }
    },
    {
      "cell_type": "code",
      "source": [
        "print(df)"
      ],
      "metadata": {
        "colab": {
          "base_uri": "https://localhost:8080/"
        },
        "id": "dTMu3KJI7yP0",
        "outputId": "7976a09e-357c-442a-ebd2-d87b5bf286eb"
      },
      "execution_count": null,
      "outputs": [
        {
          "output_type": "stream",
          "name": "stdout",
          "text": [
            "      ID  No_Pation Gender  AGE  Urea  Cr  HbA1c  Chol   TG  HDL  LDL  VLDL  \\\n",
            "0    502      17975      F   50   4.7  46    4.9   4.2  0.9  2.4  1.4   0.5   \n",
            "1    735      34221      M   26   4.5  62    4.9   3.7  1.4  1.1  2.1   0.6   \n",
            "2    420      47975      F   50   4.7  46    4.9   4.2  0.9  2.4  1.4   0.5   \n",
            "3    680      87656      F   50   4.7  46    4.9   4.2  0.9  2.4  1.4   0.5   \n",
            "4    504      34223      M   33   7.1  46    4.9   4.9  1.0  0.8  2.0   0.4   \n",
            "..   ...        ...    ...  ...   ...  ..    ...   ...  ...  ...  ...   ...   \n",
            "995  200     454317      M   71  11.0  97    7.0   7.5  1.7  1.2  1.8   0.6   \n",
            "996  671     876534      M   31   3.0  60   12.3   4.1  2.2  0.7  2.4  15.4   \n",
            "997  669      87654      M   30   7.1  81    6.7   4.1  1.1  1.2  2.4   8.1   \n",
            "998   99      24004      M   38   5.8  59    6.7   5.3  2.0  1.6  2.9  14.0   \n",
            "999  248      24054      M   54   5.0  67    6.9   3.8  1.7  1.1  3.0   0.7   \n",
            "\n",
            "      BMI CLASS  \n",
            "0    24.0     N  \n",
            "1    23.0     N  \n",
            "2    24.0     N  \n",
            "3    24.0     N  \n",
            "4    21.0     N  \n",
            "..    ...   ...  \n",
            "995  30.0     Y  \n",
            "996  37.2    Y   \n",
            "997  27.4    Y   \n",
            "998  40.5    Y   \n",
            "999  33.0    Y   \n",
            "\n",
            "[921 rows x 14 columns]\n"
          ]
        }
      ]
    },
    {
      "cell_type": "code",
      "source": [
        "# Drop unnecessary columns\n",
        "df = df.drop(['No_Pation'], axis=1)\n",
        "\n",
        "# Encode categorical variables\n",
        "df = pd.get_dummies(df, columns=['Gender'], drop_first=True)"
      ],
      "metadata": {
        "id": "hv14iC2p_N1f"
      },
      "execution_count": null,
      "outputs": []
    },
    {
      "cell_type": "code",
      "source": [
        "# Split the data into features (X) and target variable (y)\n",
        "X = df.drop(['CLASS'], axis=1)\n",
        "y = df['CLASS']\n",
        "\n",
        "# Feature Scaling\n",
        "scaler = StandardScaler()\n",
        "X_scaled = scaler.fit_transform(X)\n",
        "\n",
        "# Split the data into training and testing sets\n",
        "X_train, X_test, y_train, y_test = train_test_split(X_scaled, y, test_size=0.2, random_state=42)\n",
        "\n",
        "# Model Training\n",
        "model = LogisticRegression()\n",
        "model.fit(X_train, y_train)\n",
        "\n",
        "# Model Evaluation\n",
        "y_pred = model.predict(X_test)\n",
        "print(classification_report(y_test, y_pred, zero_division=1))"
      ],
      "metadata": {
        "colab": {
          "base_uri": "https://localhost:8080/"
        },
        "id": "CIPW69AR9kdd",
        "outputId": "ac5e33b4-93e4-4f0b-da5e-c82274b05141"
      },
      "execution_count": null,
      "outputs": [
        {
          "output_type": "stream",
          "name": "stdout",
          "text": [
            "              precision    recall  f1-score   support\n",
            "\n",
            "           N       0.78      0.82      0.80        22\n",
            "          N        1.00      0.00      0.00         1\n",
            "           P       0.29      0.25      0.27         8\n",
            "           Y       0.96      0.97      0.96       154\n",
            "\n",
            "    accuracy                           0.91       185\n",
            "   macro avg       0.76      0.51      0.51       185\n",
            "weighted avg       0.91      0.91      0.91       185\n",
            "\n"
          ]
        }
      ]
    }
  ]
}